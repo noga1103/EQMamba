{
  "cells": [
    {
      "cell_type": "markdown",
      "source": [
        "download relavent libaries, match versions"
      ],
      "metadata": {
        "id": "70bOo2-lHj40"
      }
    },
    {
      "cell_type": "code",
      "execution_count": null,
      "metadata": {
        "id": "vexlD0GFo0p1"
      },
      "outputs": [],
      "source": [
        "!git clone https://github.com/noga1103/EQMamba.git"
      ]
    },
    {
      "cell_type": "code",
      "execution_count": null,
      "metadata": {
        "id": "YjnHWtknE0H1"
      },
      "outputs": [],
      "source": [
        "!pip uninstall ipython-sql sqlalchemy -y"
      ]
    },
    {
      "cell_type": "code",
      "execution_count": null,
      "metadata": {
        "id": "zLqlNSH7M5Ey"
      },
      "outputs": [],
      "source": [
        "!pip install obspy"
      ]
    },
    {
      "cell_type": "markdown",
      "source": [
        "refresh notebook before keep going"
      ],
      "metadata": {
        "id": "qTxV2-mSHdc2"
      }
    },
    {
      "cell_type": "code",
      "source": [
        "!pip install h5py"
      ],
      "metadata": {
        "id": "u4oq-Wx4Mr7Z"
      },
      "execution_count": null,
      "outputs": []
    },
    {
      "cell_type": "code",
      "execution_count": null,
      "metadata": {
        "id": "Td03VE1SGK0N"
      },
      "outputs": [],
      "source": [
        "!pip install 'sqlalchemy<2'"
      ]
    },
    {
      "cell_type": "code",
      "execution_count": null,
      "metadata": {
        "id": "XAk4q0A-o-yO"
      },
      "outputs": [],
      "source": [
        "%cd EQMamba"
      ]
    },
    {
      "cell_type": "code",
      "execution_count": null,
      "metadata": {
        "id": "OfetqmmHpCA3"
      },
      "outputs": [],
      "source": [
        "!python setup.py install"
      ]
    },
    {
      "cell_type": "code",
      "execution_count": null,
      "metadata": {
        "id": "jnvmsAABpEKO"
      },
      "outputs": [],
      "source": [
        "!pip install tensorflow"
      ]
    },
    {
      "cell_type": "code",
      "execution_count": null,
      "metadata": {
        "id": "SXjI811uEtcn"
      },
      "outputs": [],
      "source": [
        "try:\n",
        "    import obspy\n",
        "    print(\"ObsPy version:\", obspy.__version__) #should be 1.4.1\n",
        "except ImportError:\n",
        "    print(\"ObsPy is not installed.\")"
      ]
    },
    {
      "cell_type": "code",
      "execution_count": null,
      "metadata": {
        "id": "g67F9nDXGR-z"
      },
      "outputs": [],
      "source": [
        "try:\n",
        "    import sqlalchemy\n",
        "    print(\"sqlalchemy version:\", sqlalchemy.__version__) #should be 1.4.52\n",
        "except ImportError:\n",
        "    print(\"sqlalchemy is not installed.\")"
      ]
    },
    {
      "cell_type": "code",
      "source": [
        "from EQTransformer.core.trainer import trainer\n",
        "trainer(input_hdf5='content/EQMamba/ModelsAndSampleData/100samples.hdf5',\n",
        "        input_csv='/content/EQMamba/ModelsAndSampleData/100samples.csv',\n",
        "        output_name='/content/EQMamba/test_trainer',\n",
        "        cnn_blocks=2,\n",
        "        lstm_blocks=1,\n",
        "        padding='same',\n",
        "        activation='relu',\n",
        "        drop_rate=0.2,\n",
        "        label_type='gaussian',\n",
        "        add_event_r=0.6,\n",
        "        add_gap_r=0.2,\n",
        "        shift_event_r=0.9,\n",
        "        add_noise_r=0.5,\n",
        "        mode='generator',\n",
        "        train_valid_test_split=[0.60, 0.20, 0.20],\n",
        "        batch_size=10,\n",
        "        epochs=20,\n",
        "        patience=2,\n",
        "        gpuid=None,\n",
        "        gpu_limit=None)"
      ],
      "metadata": {
        "id": "KT_nLx-nJp-w"
      },
      "execution_count": null,
      "outputs": []
    },
    {
      "cell_type": "code",
      "source": [
        "from EQTransformer.core.tester import tester\n",
        "tester(input_hdf5='/content/EQMamba//ModelsAndSampleData/100samples.hdf5',\n",
        "       input_testset='/content/EQMamba/test_trainer_outputs/test.npy',\n",
        "       input_model='/content/EQMamba/test_trainer_010.h5',\n",
        "       output_name='/content/EQMamba/test_tester',\n",
        "       detection_threshold=0.20,\n",
        "       P_threshold=0.1,\n",
        "       S_threshold=0.1,\n",
        "       number_of_plots=3,\n",
        "       estimate_uncertainty=True,\n",
        "       number_of_sampling=2,\n",
        "       input_dimention=(6000, 3),\n",
        "       normalization_mode='std',\n",
        "       mode='generator',\n",
        "       batch_size=10,\n",
        "       gpuid=None,\n",
        "       gpu_limit=None)"
      ],
      "metadata": {
        "id": "mInSg5vdKC-e"
      },
      "execution_count": null,
      "outputs": []
    },
    {
      "cell_type": "markdown",
      "source": [
        "using [STEAD dataset](https://github.com/smousavi05/STEAD), too big for colab so importing from drive"
      ],
      "metadata": {
        "id": "WCdQrU9oIB0k"
      }
    },
    {
      "cell_type": "code",
      "source": [
        "from google.colab import drive\n",
        "drive.mount('/content/drive')"
      ],
      "metadata": {
        "id": "dG9nFsK8MPul"
      },
      "execution_count": null,
      "outputs": []
    },
    {
      "cell_type": "code",
      "source": [
        "filepath = '/content/drive/MyDrive/chunk2.hdf5'"
      ],
      "metadata": {
        "id": "_QtafvKvMXQx"
      },
      "execution_count": 10,
      "outputs": []
    },
    {
      "cell_type": "code",
      "source": [
        "import h5py\n",
        "#check mounting worked\n",
        "\n",
        "with h5py.File(filepath, 'r') as f:\n",
        "\n",
        "    print(\"List of datasets in the file:\", list(f.keys()))\n",
        "\n"
      ],
      "metadata": {
        "id": "cv_hILKQMuDs"
      },
      "execution_count": null,
      "outputs": []
    },
    {
      "cell_type": "code",
      "execution_count": null,
      "metadata": {
        "id": "7Ce-CyOasGsc"
      },
      "outputs": [],
      "source": [
        "import os\n",
        "import numpy as np\n",
        "import warnings\n",
        "np.warnings = warnings\n",
        "json_basepath = os.path.join(os.getcwd(),\"json/station_list.json\")\n",
        "\n",
        "from EQTransformer.utils.downloader import makeStationList\n",
        "\n",
        "makeStationList(json_path=\"/content/json/station_list.json\", client_list=[\"SCEDC\"], min_lat=35.50, max_lat=35.60, min_lon=-117.80, max_lon=-117.40, start_time=\"2019-09-01 00:00:00.00\", end_time=\"2019-09-03 00:00:00.00\", channel_list=[\"HH[ZNE]\", \"HH[Z21]\", \"BH[ZNE]\"], filter_network=[\"SY\"], filter_station=[])"
      ]
    },
    {
      "cell_type": "code",
      "execution_count": null,
      "metadata": {
        "id": "S5KOxmmJz6f8"
      },
      "outputs": [],
      "source": [
        "from EQTransformer.core.trainer import trainer\n",
        "trainer(input_hdf5='/content/drive/MyDrive/chunk2.hdf5',\n",
        "        input_csv='/content/drive/MyDrive/chunk2.csv',\n",
        "        output_name='/content/EQMamba/test_trainer',\n",
        "        cnn_blocks=2,\n",
        "        lstm_blocks=1,\n",
        "        padding='same',\n",
        "        activation='relu',\n",
        "        drop_rate=0.2,\n",
        "        label_type='gaussian',\n",
        "        add_event_r=0.6,\n",
        "        add_gap_r=0.2,\n",
        "        shift_event_r=0.9,\n",
        "        add_noise_r=0.5,\n",
        "        mode='generator',\n",
        "        train_valid_test_split=[0.60, 0.20, 0.20],\n",
        "        batch_size=10,\n",
        "        epochs=20,\n",
        "        patience=2,\n",
        "        gpuid=None,\n",
        "        gpu_limit=None)\n"
      ]
    },
    {
      "cell_type": "code",
      "source": [
        "from EQTransformer.core.tester import tester\n",
        "tester(input_hdf5='content/drive/MyDrive/chunk2.hdf5',\n",
        "       input_testset='/content/EQMamba/test_trainer_outputs/test.npy',\n",
        "       input_model='/content/EQMamba/test_trainer_010.h5',\n",
        "       output_name='/content/EQMamba/test_tester',\n",
        "       detection_threshold=0.20,\n",
        "       P_threshold=0.1,\n",
        "       S_threshold=0.1,\n",
        "       number_of_plots=3,\n",
        "       estimate_uncertainty=True,\n",
        "       number_of_sampling=2,\n",
        "       input_dimention=(6000, 3),\n",
        "       normalization_mode='std',\n",
        "       mode='generator',\n",
        "       batch_size=10,\n",
        "       gpuid=None,\n",
        "       gpu_limit=None)"
      ],
      "metadata": {
        "id": "GHrb8RenbfLs"
      },
      "execution_count": null,
      "outputs": []
    },
    {
      "cell_type": "code",
      "source": [],
      "metadata": {
        "id": "CD6DXvkV0RAe"
      },
      "execution_count": null,
      "outputs": []
    }
  ],
  "metadata": {
    "accelerator": "GPU",
    "colab": {
      "gpuType": "L4",
      "machine_shape": "hm",
      "provenance": []
    },
    "kernelspec": {
      "display_name": "Python 3",
      "name": "python3"
    },
    "language_info": {
      "name": "python"
    }
  },
  "nbformat": 4,
  "nbformat_minor": 0
}