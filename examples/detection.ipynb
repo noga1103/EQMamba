{
 "cells": [
  {
   "cell_type": "markdown",
   "metadata": {},
   "source": [
    "# (II) Detection and Picking\n",
    "This notebook demonstrates the use of EQTransformer for performing the earthquake signal detection and seismic phase (P & S) picking on continuous data. Once you have your seismic data - preferentially in mseed format and in individual subfolders for each station- you can perform the detection/picking using the following options:\n"
   ]
  },
  {
   "cell_type": "markdown",
   "metadata": {},
   "source": [
    "### Option (I) on preprocessed (hdf5) files:"
   ]
  },
  {
   "cell_type": "markdown",
   "metadata": {},
   "source": [
    "This option is recommended for smaller time periods (a few days to a month). This allows you to test the perfomance and explore the effects of different parameters while the provided hdf5 file makes it easy to access the waveforms.\n",
    "\n",
    "For this option you first need to convert your MiniSeed files for each station into a single hdf5 file and a csv file containting the list of traces in the hdf5 file.\n",
    "\n",
    "You can convert MiniSeed files to a hdf5 file using the following command:"
   ]
  },
  {
   "cell_type": "code",
   "execution_count": 5,
   "metadata": {},
   "outputs": [
    {
     "name": "stdout",
     "output_type": "stream",
     "text": [
      "============ Station B921 has 2 chunks of data.============ Station SV08 has 2 chunks of data.\n",
      "\n",
      "  * SV08 (1) .. 20190901 --> 20190902 .. 3 components .. sampling rate: 100.0\n",
      "  * B921 (1) .. 20190901 --> 20190902 .. 3 components .. sampling rate: 100.0\n",
      "  * SV08 (2) .. 20190902 --> 20190903 .. 3 components .. sampling rate: 100.0\n",
      "  * B921 (2) .. 20190902 --> 20190903 .. 3 components .. sampling rate: 100.0\n",
      " Station SV08 had 2 chuncks of data\n",
      "4112 slices were written, 4114.0 were expected.\n",
      "Number of 1-components: 0. Number of 2-components: 0. Number of 3-components: 2.\n",
      "Original samplieng rate: 100.0.\n",
      "============ Station CA06 has 2 chunks of data.\n",
      "  * CA06 (1) .. 20190901 --> 20190902 .. 3 components .. sampling rate: 100.0\n",
      " Station B921 had 2 chuncks of data\n",
      "4112 slices were written, 4114.0 were expected.\n",
      "Number of 1-components: 0. Number of 2-components: 0. Number of 3-components: 2.\n",
      "Original samplieng rate: 100.0.\n",
      "  * CA06 (2) .. 20190902 --> 20190903 .. 3 components .. sampling rate: 100.0\n",
      " Station CA06 had 2 chuncks of data\n",
      "4112 slices were written, 4114.0 were expected.\n",
      "Number of 1-components: 0. Number of 2-components: 0. Number of 3-components: 2.\n",
      "Original samplieng rate: 100.0.\n"
     ]
    }
   ],
   "source": [
    "import os\n",
    "from EQTransformer.utils.hdf5_maker import preprocessor\n",
    "\n",
    "json_basepath = os.path.join(os.getcwd(),\"json/station_list.json\")\n",
    "\n",
    "preprocessor(preproc_dir=\"preproc\",\n",
    "             mseed_dir='downloads_mseeds', \n",
    "             stations_json=json_basepath, \n",
    "             overlap=0.3, \n",
    "             n_processor=2)"
   ]
  },
  {
   "cell_type": "markdown",
   "metadata": {},
   "source": [
    "This will generate one \"station_name.hdf5\" and one \"station_name.csv\" file for each of your stations and put them into a directory named \"mseed_dir+_hdfs\". Then you need to pass the name of the directory containing your hdf5 & CSV files and a model. You can use relatively low threshold values for the detection and picking since EQTransformer is very robust to false positives. Enabling uncertaintiy estimation, outputing probabilities, or plotting all the detected events will slow down the process."
   ]
  },
  {
   "cell_type": "code",
   "execution_count": 6,
   "metadata": {},
   "outputs": [
    {
     "name": "stdout",
     "output_type": "stream",
     "text": [
      "============================================================================\n",
      "Running EqTransformer  0.1.58\n",
      " *** Loading the model ...\n",
      "*** Loading is complete!\n",
      "######### There are files for 3 stations in downloads_mseeds_processed_hdfs directory. #########\n",
      "========= Started working on B921, 1 out of 3 ...\n",
      "\n",
      "\n",
      "\n",
      "  0%|                                                                         | 0/9 [00:00<?, ?it/s]\u001b[A\u001b[A\u001b[A\n",
      "\n",
      "\n",
      " 22%|██████████████▍                                                  | 2/9 [00:28<01:39, 14.16s/it]\u001b[A\u001b[A\u001b[A\n",
      "\n",
      "\n",
      " 33%|█████████████████████▋                                           | 3/9 [00:33<01:07, 11.32s/it]\u001b[A\u001b[A\u001b[A\n",
      "\n",
      "\n",
      " 44%|████████████████████████████▉                                    | 4/9 [00:37<00:46,  9.36s/it]\u001b[A\u001b[A\u001b[A\n",
      "\n",
      "\n",
      " 56%|████████████████████████████████████                             | 5/9 [00:42<00:31,  7.99s/it]\u001b[A\u001b[A\u001b[A\n",
      "\n",
      "\n",
      " 67%|███████████████████████████████████████████▎                     | 6/9 [00:47<00:21,  7.10s/it]\u001b[A\u001b[A\u001b[A\n",
      "\n",
      "\n",
      " 78%|██████████████████████████████████████████████████▌              | 7/9 [00:52<00:13,  6.58s/it]\u001b[A\u001b[A\u001b[A\n",
      "\n",
      "\n",
      " 89%|█████████████████████████████████████████████████████████▊       | 8/9 [00:57<00:06,  6.07s/it]\u001b[A\u001b[A\u001b[A\n",
      "\n",
      "\n",
      "100%|█████████████████████████████████████████████████████████████████| 9/9 [01:03<00:00,  5.83s/it]\u001b[A\u001b[A\u001b[A\n",
      "\n",
      " *** Finished the prediction in: 0 hours and 1 minutes and 4.59 seconds.\n",
      " *** Detected: 2912 events.\n",
      " *** Wrote the results into --> \" /Users/mostafamousavi/Desktop/EQTransformer/examples/detections1/B921_outputs \"\n",
      "========= Started working on CA06, 2 out of 3 ...\n",
      "\n",
      "\n",
      "\n",
      "\n",
      "  0%|                                                                         | 0/9 [00:00<?, ?it/s]\u001b[A\u001b[A\u001b[A\u001b[A\n",
      "\n",
      "\n",
      "\n",
      " 22%|██████████████▍                                                  | 2/9 [00:10<00:35,  5.06s/it]\u001b[A\u001b[A\u001b[A\u001b[A\n",
      "\n",
      "\n",
      "\n",
      " 33%|█████████████████████▋                                           | 3/9 [00:15<00:30,  5.02s/it]\u001b[A\u001b[A\u001b[A\u001b[A\n",
      "\n",
      "\n",
      "\n",
      " 44%|████████████████████████████▉                                    | 4/9 [00:20<00:25,  5.00s/it]\u001b[A\u001b[A\u001b[A\u001b[A\n",
      "\n",
      "\n",
      "\n",
      " 56%|████████████████████████████████████                             | 5/9 [00:24<00:19,  4.96s/it]\u001b[A\u001b[A\u001b[A\u001b[A\n",
      "\n",
      "\n",
      "\n",
      " 67%|███████████████████████████████████████████▎                     | 6/9 [00:29<00:14,  4.94s/it]\u001b[A\u001b[A\u001b[A\u001b[A\n",
      "\n",
      "\n",
      "\n",
      " 78%|██████████████████████████████████████████████████▌              | 7/9 [00:34<00:09,  4.88s/it]\u001b[A\u001b[A\u001b[A\u001b[A\n",
      "\n",
      "\n",
      "\n",
      " 89%|█████████████████████████████████████████████████████████▊       | 8/9 [00:39<00:04,  4.93s/it]\u001b[A\u001b[A\u001b[A\u001b[A\n",
      "\n",
      "\n",
      "\n",
      "100%|█████████████████████████████████████████████████████████████████| 9/9 [00:45<00:00,  5.09s/it]\u001b[A\u001b[A\u001b[A\u001b[A\n",
      "\n",
      " *** Finished the prediction in: 0 hours and 0 minutes and 46.61 seconds.\n",
      " *** Detected: 2889 events.\n",
      " *** Wrote the results into --> \" /Users/mostafamousavi/Desktop/EQTransformer/examples/detections1/CA06_outputs \"\n",
      "========= Started working on SV08, 3 out of 3 ...\n",
      "\n",
      "\n",
      "\n",
      "\n",
      "\n",
      "  0%|                                                                         | 0/9 [00:00<?, ?it/s]\u001b[A\u001b[A\u001b[A\u001b[A\u001b[A\n",
      "\n",
      "\n",
      "\n",
      "\n",
      " 22%|██████████████▍                                                  | 2/9 [00:08<00:30,  4.37s/it]\u001b[A\u001b[A\u001b[A\u001b[A\u001b[A\n",
      "\n",
      "\n",
      "\n",
      "\n",
      " 33%|█████████████████████▋                                           | 3/9 [00:13<00:26,  4.43s/it]\u001b[A\u001b[A\u001b[A\u001b[A\u001b[A\n",
      "\n",
      "\n",
      "\n",
      "\n",
      " 44%|████████████████████████████▉                                    | 4/9 [00:18<00:22,  4.55s/it]\u001b[A\u001b[A\u001b[A\u001b[A\u001b[A\n",
      "\n",
      "\n",
      "\n",
      "\n",
      " 56%|████████████████████████████████████                             | 5/9 [00:22<00:18,  4.57s/it]\u001b[A\u001b[A\u001b[A\u001b[A\u001b[A\n",
      "\n",
      "\n",
      "\n",
      "\n",
      " 67%|███████████████████████████████████████████▎                     | 6/9 [00:27<00:13,  4.52s/it]\u001b[A\u001b[A\u001b[A\u001b[A\u001b[A\n",
      "\n",
      "\n",
      "\n",
      "\n",
      " 78%|██████████████████████████████████████████████████▌              | 7/9 [00:31<00:09,  4.57s/it]\u001b[A\u001b[A\u001b[A\u001b[A\u001b[A\n",
      "\n",
      "\n",
      "\n",
      "\n",
      " 89%|█████████████████████████████████████████████████████████▊       | 8/9 [00:36<00:04,  4.71s/it]\u001b[A\u001b[A\u001b[A\u001b[A\u001b[A\n",
      "\n",
      "\n",
      "\n",
      "\n",
      "100%|█████████████████████████████████████████████████████████████████| 9/9 [00:42<00:00,  4.83s/it]\u001b[A\u001b[A\u001b[A\u001b[A\u001b[A\n",
      "\n",
      " *** Finished the prediction in: 0 hours and 0 minutes and 43.51 seconds.\n",
      " *** Detected: 1619 events.\n",
      " *** Wrote the results into --> \" /Users/mostafamousavi/Desktop/EQTransformer/examples/detections1/SV08_outputs \"\n"
     ]
    }
   ],
   "source": [
    "from EQTransformer.core.predictor import predictor\n",
    "predictor(input_dir='downloads_mseeds_processed_hdfs',   \n",
    "         input_model='../ModelsAndSampleData/EqT_original_model.h5',\n",
    "         output_dir='detections1',\n",
    "         estimate_uncertainty=False, \n",
    "         output_probabilities=False,\n",
    "         number_of_sampling=5,\n",
    "         loss_weights=[0.02, 0.40, 0.58],          \n",
    "         detection_threshold=0.3,                \n",
    "         P_threshold=0.3,\n",
    "         S_threshold=0.3, \n",
    "         number_of_plots=10,\n",
    "         plot_mode='time',\n",
    "         batch_size=500,\n",
    "         number_of_cpus=4,\n",
    "         keepPS=False,\n",
    "         spLimit=60) "
   ]
  },
  {
   "cell_type": "markdown",
   "metadata": {},
   "source": [
    "If you are using local MiniSeed files you can generate a station_list.json by supplying an absolute path to a directory containing Miniseed files and a station location dictionary using the stationListFromMseed function like the following:"
   ]
  },
  {
   "cell_type": "code",
   "execution_count": null,
   "metadata": {},
   "outputs": [],
   "source": [
    "from EQTransformer.utils.hdf5_maker import stationListFromMseed\n",
    "\n",
    "mseed_directory = '/Users/username/Downloads/EQTransformer/examples/downloads_mseeds'\n",
    "station_locations = {\"CA06\": [35.59962, -117.49268, 796.4], \"CA10\": [35.56736, -117.667427, 835.9]}\n",
    "stationListFromMseed(mseed_directory, station_locations)"
   ]
  },
  {
   "cell_type": "markdown",
   "metadata": {},
   "source": [
    "### Option (II) directly on downloaded MiniSeed files:"
   ]
  },
  {
   "cell_type": "markdown",
   "metadata": {},
   "source": [
    "You can perform the detection/picking directly on .mseed files. \n",
    "This save both prerpcessing time and the extra space needed for hdf5 file. However, it can be more memory intensive. So it is recommended when mseed fils are one month long or shorter.\n",
    "This option also does not allow you to estimate the uncertainties, write the prediction probabilities, or use the advantages of having hdf5 files which makes it easy to access the raw event waveforms based on detection results.   "
   ]
  },
  {
   "cell_type": "code",
   "execution_count": 7,
   "metadata": {},
   "outputs": [
    {
     "name": "stderr",
     "output_type": "stream",
     "text": [
      "01-29 22:39 [INFO] [EQTransformer] Running EqTransformer  0.1.58\n",
      "01-29 22:39 [INFO] [EQTransformer] *** Loading the model ...\n",
      "01-29 22:41 [INFO] [EQTransformer] *** Loading is complete!\n",
      "01-29 22:41 [INFO] [EQTransformer] There are files for 3 stations in downloads_mseeds directory.\n",
      "01-29 22:41 [INFO] [EQTransformer] Started working on B921, 1 out of 3 ...\n",
      "01-29 22:41 [INFO] [EQTransformer] 20190901T000000Z__20190902T000000Z.mseed\n",
      "01-29 22:41 [INFO] [EQTransformer] 20190902T000000Z__20190903T000000Z.mseed\n"
     ]
    },
    {
     "name": "stdout",
     "output_type": "stream",
     "text": [
      "\n",
      "\n"
     ]
    },
    {
     "name": "stderr",
     "output_type": "stream",
     "text": [
      "01-29 22:42 [INFO] [EQTransformer] Finished the prediction in: 0 hours and 1 minutes and 0.64 seconds.\n",
      "01-29 22:42 [INFO] [EQTransformer] *** Detected: 2852 events.\n",
      "01-29 22:42 [INFO] [EQTransformer]  *** Wrote the results into --> \" /Users/mostafamousavi/Desktop/EQTransformer/examples/detections2/B921_outputs \"\n",
      "01-29 22:42 [INFO] [EQTransformer] Started working on CA06, 2 out of 3 ...\n",
      "01-29 22:42 [INFO] [EQTransformer] 20190901T000000Z__20190902T000000Z.mseed\n",
      "01-29 22:42 [INFO] [EQTransformer] 20190902T000000Z__20190903T000000Z.mseed\n"
     ]
    },
    {
     "name": "stdout",
     "output_type": "stream",
     "text": [
      "\n",
      "\n"
     ]
    },
    {
     "name": "stderr",
     "output_type": "stream",
     "text": [
      "01-29 22:42 [INFO] [EQTransformer] Finished the prediction in: 0 hours and 0 minutes and 36.11 seconds.\n",
      "01-29 22:42 [INFO] [EQTransformer] *** Detected: 2799 events.\n",
      "01-29 22:42 [INFO] [EQTransformer]  *** Wrote the results into --> \" /Users/mostafamousavi/Desktop/EQTransformer/examples/detections2/CA06_outputs \"\n",
      "01-29 22:42 [INFO] [EQTransformer] Started working on SV08, 3 out of 3 ...\n",
      "01-29 22:42 [INFO] [EQTransformer] 20190901T000000Z__20190902T000000Z.mseed\n",
      "01-29 22:43 [INFO] [EQTransformer] 20190902T000000Z__20190903T000000Z.mseed\n"
     ]
    },
    {
     "name": "stdout",
     "output_type": "stream",
     "text": [
      "\n",
      "\n"
     ]
    },
    {
     "name": "stderr",
     "output_type": "stream",
     "text": [
      "01-29 22:43 [INFO] [EQTransformer] Finished the prediction in: 0 hours and 0 minutes and 33.85 seconds.\n",
      "01-29 22:43 [INFO] [EQTransformer] *** Detected: 1593 events.\n",
      "01-29 22:43 [INFO] [EQTransformer]  *** Wrote the results into --> \" /Users/mostafamousavi/Desktop/EQTransformer/examples/detections2/SV08_outputs \"\n"
     ]
    }
   ],
   "source": [
    "from EQTransformer.core.mseed_predictor import mseed_predictor\n",
    "mseed_predictor(input_dir='downloads_mseeds',   \n",
    "         input_model='../ModelsAndSampleData/EqT_original_model.h5',\n",
    "         stations_json=json_basepath,\n",
    "         output_dir='detections2',\n",
    "         loss_weights=[0.02, 0.40, 0.58],          \n",
    "         detection_threshold=0.7,                \n",
    "         P_threshold=0.3,\n",
    "         S_threshold=0.3, \n",
    "         number_of_plots=10,\n",
    "         plot_mode='time_frequency',\n",
    "         normalization_mode='std',\n",
    "         batch_size=500,\n",
    "         overlap=0.9,\n",
    "         gpuid=None,\n",
    "         gpu_limit=None) "
   ]
  },
  {
   "cell_type": "markdown",
   "metadata": {},
   "source": [
    "Prediction outputs for each station will be written in your output directory (i.e. 'detections').\n",
    "\n",
    "'X_report.txt' contains processing info on input parameters used for the detection/picking and final \n",
    "results such as running time, the total number of detected events (these are unique events and duplicated ones have been already removed). \n",
    "\n",
    "'X_prediction_results.csv' contains detection/picking results in the figures folder you can find the plots for the number of events that you specified in the above comment."
   ]
  }
 ],
 "metadata": {
  "kernelspec": {
   "display_name": "Python 3",
   "language": "python",
   "name": "python3"
  },
  "language_info": {
   "codemirror_mode": {
    "name": "ipython",
    "version": 3
   },
   "file_extension": ".py",
   "mimetype": "text/x-python",
   "name": "python",
   "nbconvert_exporter": "python",
   "pygments_lexer": "ipython3",
   "version": "3.7.6"
  }
 },
 "nbformat": 4,
 "nbformat_minor": 4
}
